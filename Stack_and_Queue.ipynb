{
  "nbformat": 4,
  "nbformat_minor": 0,
  "metadata": {
    "colab": {
      "name": "Stack and Queue.ipynb",
      "provenance": [],
      "authorship_tag": "ABX9TyP4PJAbn3jRwDTe8UINXBhV",
      "include_colab_link": true
    },
    "kernelspec": {
      "name": "python3",
      "display_name": "Python 3"
    },
    "language_info": {
      "name": "python"
    }
  },
  "cells": [
    {
      "cell_type": "markdown",
      "metadata": {
        "id": "view-in-github",
        "colab_type": "text"
      },
      "source": [
        "<a href=\"https://colab.research.google.com/github/rzkyadhi/Cracking-the-coding-Interview/blob/main/Stack_and_Queue.ipynb\" target=\"_parent\"><img src=\"https://colab.research.google.com/assets/colab-badge.svg\" alt=\"Open In Colab\"/></a>"
      ]
    },
    {
      "cell_type": "markdown",
      "source": [
        "# **3.1 Three in One(Stack)**"
      ],
      "metadata": {
        "id": "pzogNgz7NgG9"
      }
    },
    {
      "cell_type": "markdown",
      "source": [
        "Describe how could you use a single array to implement three stacks"
      ],
      "metadata": {
        "id": "R09ESnCFNsAM"
      }
    },
    {
      "cell_type": "code",
      "source": [
        "class Three_Stacks:\n",
        "  def __init__(self, capacity = 2):\n",
        "    capacity = capacity * 3\n",
        "    self.items = [None] * capacity\n",
        "    self.start = [0, capacity // 3, 2 * (capacity // 3)]\n",
        "    self.end = [capacity // 3, 2 * (capacity // 3), capacity]\n",
        "\n",
        "  def push(self, stack, item):\n",
        "    if stack > 2:\n",
        "      raise ValueError(\"Assigned stack does not exist !\")\n",
        "    elif self.start[stack] == self.end[stack]:\n",
        "      raise ValueError(f\"Stack {stack} is full !\")\n",
        "    else:\n",
        "      self.items[self.start[stack]] = item\n",
        "      self.start[stack] += 1\n",
        "  \n",
        "  def pop(self, stack):\n",
        "    top = self.start[stack] - 1\n",
        "    if stack > 2:\n",
        "      raise ValueError(\"Assigned stack does not exist !\")\n",
        "    elif self.items[top] == None:\n",
        "      raise IndexError(\"Poppin from empty stack bruh !\")\n",
        "    else:\n",
        "      self.items[top] = None\n",
        "      self.start[stack] = top\n",
        "\n",
        "  def display(self):\n",
        "    return self.items"
      ],
      "metadata": {
        "id": "6g1L6mGRNiov"
      },
      "execution_count": null,
      "outputs": []
    },
    {
      "cell_type": "code",
      "source": [
        "my_stack = Three_Stacks()\n",
        "\n",
        "my_stack.push(1, 9)\n",
        "my_stack.push(1, 8)\n",
        "\n",
        "my_stack.pop(1)\n",
        "my_stack.pop(1)\n",
        "\n",
        "my_stack.push(0, 1)\n",
        "my_stack.push(1, 4)\n",
        "\n",
        "my_stack.display()"
      ],
      "metadata": {
        "colab": {
          "base_uri": "https://localhost:8080/"
        },
        "id": "UQLN-DClIJ1E",
        "outputId": "18c0b526-f095-4240-dfa7-1273894e7e45"
      },
      "execution_count": null,
      "outputs": [
        {
          "output_type": "execute_result",
          "data": {
            "text/plain": [
              "[1, None, 4, None, None, None]"
            ]
          },
          "metadata": {},
          "execution_count": 59
        }
      ]
    },
    {
      "cell_type": "markdown",
      "source": [
        "# **3.2 Stack Min**"
      ],
      "metadata": {
        "id": "QQL6arcT4MnG"
      }
    },
    {
      "cell_type": "markdown",
      "source": [
        "Approach : Track the minimum value in StackMin"
      ],
      "metadata": {
        "id": "LoDMDy6lEy6n"
      }
    },
    {
      "cell_type": "code",
      "source": [
        "class Stack_Min:\n",
        "  def __init__(self):\n",
        "    self.items = list()\n",
        "    self.StackMin = list()\n",
        "\n",
        "  def push(self, item):\n",
        "    self.items.append(item)\n",
        "    item = min(item, self.StackMin[-1] if self.StackMin else item)\n",
        "    print(item)\n",
        "    self.StackMin.append(item)\n",
        "\n",
        "  def popzy(self):\n",
        "    self.items.pop()\n",
        "    self.StackMin.pop()\n",
        "\n",
        "  def getMin(self):\n",
        "    return self.StackMin[-1]\n",
        "\n",
        "  def display(self):\n",
        "    return self.items\n",
        "\n",
        "  def displayGetMin(self):\n",
        "    return self.StackMin"
      ],
      "metadata": {
        "id": "M5tRwj-9Ag86"
      },
      "execution_count": null,
      "outputs": []
    },
    {
      "cell_type": "code",
      "source": [
        "my_stack = Stack_Min()\n",
        "\n",
        "my_stack.push(10)\n",
        "my_stack.push(8)\n",
        "my_stack.push(9)\n",
        "my_stack.push(7)\n",
        "my_stack.push(12)\n",
        "my_stack.push(5)\n",
        "my_stack.push(6)\n",
        "\n",
        "print(my_stack.display())\n",
        "print(my_stack.displayGetMin())\n",
        "\n",
        "print(\"Minimum Value :\", my_stack.getMin())"
      ],
      "metadata": {
        "colab": {
          "base_uri": "https://localhost:8080/"
        },
        "id": "MbgRMroVCG1T",
        "outputId": "fdca4f8f-ade4-4859-bd05-e96343c69082"
      },
      "execution_count": null,
      "outputs": [
        {
          "output_type": "stream",
          "name": "stdout",
          "text": [
            "10\n",
            "8\n",
            "8\n",
            "7\n",
            "7\n",
            "5\n",
            "5\n",
            "[10, 8, 9, 7, 12, 5, 6]\n",
            "[10, 8, 8, 7, 7, 5, 5]\n",
            "Minimum Value : 5\n"
          ]
        }
      ]
    },
    {
      "cell_type": "markdown",
      "source": [
        "Best approach : No need new variable"
      ],
      "metadata": {
        "id": "vSlm5HdDAa99"
      }
    },
    {
      "cell_type": "code",
      "source": [
        "class Stack_Min:\n",
        "  def __init__(self):\n",
        "    self.items = list()\n",
        "\n",
        "  def push(self, item):\n",
        "    if len(self.items) == 0:\n",
        "      self.items.append((item, item))\n",
        "      #print(\"IF :\", self.items)\n",
        "    else:\n",
        "      self.items.append((item, min(item, self.items[-1][1])))\n",
        "      #print(\"ELSE :\", self.items)\n",
        "\n",
        "  def poppin(self):\n",
        "    return self.items.pop()\n",
        "\n",
        "  def getMin(self):\n",
        "    return self.items[-1][1]\n",
        "\n",
        "  def display(self):\n",
        "    return self.items"
      ],
      "metadata": {
        "id": "MCiaR5r64RBe"
      },
      "execution_count": null,
      "outputs": []
    },
    {
      "cell_type": "code",
      "source": [
        "my_stack = Stack_Min()\n",
        "\n",
        "my_stack.push(10)\n",
        "my_stack.push(8)\n",
        "my_stack.push(9)\n",
        "my_stack.push(7)\n",
        "my_stack.push(12)\n",
        "my_stack.push(5)\n",
        "my_stack.push(6)\n",
        "\n",
        "my_stack.poppin()\n",
        "print(my_stack.display())\n",
        "\n",
        "print(\"Minimum Value :\", my_stack.getMin())"
      ],
      "metadata": {
        "colab": {
          "base_uri": "https://localhost:8080/"
        },
        "id": "V_2_9wRJ6V3R",
        "outputId": "3ca3120f-fbbb-4c2e-b8ff-fad1ff129d3f"
      },
      "execution_count": null,
      "outputs": [
        {
          "output_type": "stream",
          "name": "stdout",
          "text": [
            "[(10, 10), (8, 8), (9, 8), (7, 7), (12, 7), (5, 5)]\n",
            "Minimum Value : 5\n"
          ]
        }
      ]
    },
    {
      "cell_type": "markdown",
      "source": [
        "# **3.3 Stack of Plates**"
      ],
      "metadata": {
        "id": "rb0pvCNbGg6_"
      }
    },
    {
      "cell_type": "code",
      "source": [
        "class StackPlate:\n",
        "  def __init__(self, capacity = 2):\n",
        "    self.capacity = capacity\n",
        "    self.stacks = [[]]\n",
        "\n",
        "  def push(self, value):\n",
        "    if len(self.stacks[-1]) == self.capacity:\n",
        "      self.stacks.append([])\n",
        "    self.stacks[-1].append(value)\n",
        "\n",
        "  def popzy(self):\n",
        "    if len(self.stacks[-1]) == 0:\n",
        "      if len(self.stacks) == 1:\n",
        "        raise IndexError(\"Poppin From Empty Stack !\")\n",
        "    self.stacks.pop()\n",
        "\n",
        "  def popAt(self, value):\n",
        "    if value >= len(self.stacks):\n",
        "      raise IndexError(\"Out of range !\")\n",
        "    self.stacks[value].pop()\n",
        "\n",
        "  def display(self):\n",
        "    return self.stacks"
      ],
      "metadata": {
        "id": "cAehxl8e6dij"
      },
      "execution_count": null,
      "outputs": []
    },
    {
      "cell_type": "code",
      "source": [
        "my_stack = StackPlate()\n",
        "\n",
        "my_stack.push(1)\n",
        "my_stack.push(2)\n",
        "my_stack.push(3)\n",
        "my_stack.push(4)\n",
        "my_stack.push(5)\n",
        "my_stack.push(6)\n",
        "my_stack.push(7)\n",
        "my_stack.push(8)\n",
        "my_stack.push(9)\n",
        "my_stack.push(10)\n",
        "my_stack.push(11)\n",
        "my_stack.push(12)\n",
        "\n",
        "my_stack.popzy()\n",
        "\n",
        "my_stack.popAt(4)\n",
        "\n",
        "my_stack.display()"
      ],
      "metadata": {
        "colab": {
          "base_uri": "https://localhost:8080/"
        },
        "id": "W2acNTeoHUgK",
        "outputId": "82b166b3-2da7-41b9-8869-f87f4453b87e"
      },
      "execution_count": null,
      "outputs": [
        {
          "output_type": "execute_result",
          "data": {
            "text/plain": [
              "[[1, 2], [3, 4], [5, 6], [7, 8], [9]]"
            ]
          },
          "metadata": {},
          "execution_count": 56
        }
      ]
    },
    {
      "cell_type": "markdown",
      "source": [
        "# **Queue Via Stacks**"
      ],
      "metadata": {
        "id": "8-yaBliLrbgO"
      }
    },
    {
      "cell_type": "markdown",
      "source": [
        "Implement a MyQueue class which implements a queue using two stacks"
      ],
      "metadata": {
        "id": "-XISPsS4tThE"
      }
    },
    {
      "cell_type": "code",
      "source": [
        "class QueueStacks:\n",
        "  def __init__(self):\n",
        "    self.stack_one = list()\n",
        "    self.stack_two = list()\n",
        "\n",
        "  def push(self, item):\n",
        "    while self.stack_one:\n",
        "      self.stack_two.append(self.stack_one.pop())\n",
        "\n",
        "    self.stack_one.append(item)\n",
        "\n",
        "    while self.stack_two:\n",
        "      self.stack_one.append(self.stack_two.pop())\n",
        "\n",
        "  def pop(self):\n",
        "    self.stack_one.pop()\n",
        "\n",
        "  def display(self):\n",
        "    return self.stack_one"
      ],
      "metadata": {
        "id": "jnf2FktkHblF"
      },
      "execution_count": 15,
      "outputs": []
    },
    {
      "cell_type": "code",
      "source": [
        "Qstack = QueueStacks()\n",
        "\n",
        "Qstack.push(\"a\")\n",
        "Qstack.push(\"b\")\n",
        "Qstack.push(\"c\")\n",
        "Qstack.push(\"d\")\n",
        "\n",
        "Qstack.pop()\n",
        "\n",
        "print(Qstack.display())"
      ],
      "metadata": {
        "colab": {
          "base_uri": "https://localhost:8080/"
        },
        "id": "WvDHJZwFsEBV",
        "outputId": "d2271b54-c045-4c57-91e3-a3decd0b685a"
      },
      "execution_count": 16,
      "outputs": [
        {
          "output_type": "stream",
          "name": "stdout",
          "text": [
            "['d', 'c', 'b']\n"
          ]
        }
      ]
    },
    {
      "cell_type": "code",
      "source": [
        ""
      ],
      "metadata": {
        "id": "CFpe7e0IsOWd"
      },
      "execution_count": null,
      "outputs": []
    }
  ]
}
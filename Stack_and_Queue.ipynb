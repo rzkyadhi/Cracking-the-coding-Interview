{
  "nbformat": 4,
  "nbformat_minor": 0,
  "metadata": {
    "colab": {
      "name": "Stack and Queue.ipynb",
      "provenance": [],
      "authorship_tag": "ABX9TyNDAyefIK7QHok1EPNdv4Kq",
      "include_colab_link": true
    },
    "kernelspec": {
      "name": "python3",
      "display_name": "Python 3"
    },
    "language_info": {
      "name": "python"
    }
  },
  "cells": [
    {
      "cell_type": "markdown",
      "metadata": {
        "id": "view-in-github",
        "colab_type": "text"
      },
      "source": [
        "<a href=\"https://colab.research.google.com/github/rzkyadhi/Cracking-the-coding-Interview/blob/main/Stack_and_Queue.ipynb\" target=\"_parent\"><img src=\"https://colab.research.google.com/assets/colab-badge.svg\" alt=\"Open In Colab\"/></a>"
      ]
    },
    {
      "cell_type": "markdown",
      "source": [
        "# **3.1 Three in One(Stack)**"
      ],
      "metadata": {
        "id": "pzogNgz7NgG9"
      }
    },
    {
      "cell_type": "markdown",
      "source": [
        "Describe how could you use a single array to implement three stacks"
      ],
      "metadata": {
        "id": "R09ESnCFNsAM"
      }
    },
    {
      "cell_type": "code",
      "source": [
        "class Three_Stacks:\n",
        "  def __init__(self, capacity = 2):\n",
        "    capacity = capacity * 3\n",
        "    self.items = [None] * capacity\n",
        "    self.start = [0, capacity // 3, 2 * (capacity // 3)]\n",
        "    self.end = [capacity // 3, 2 * (capacity // 3), capacity]\n",
        "\n",
        "  def push(self, stack, item):\n",
        "    if stack > 2:\n",
        "      raise ValueError(\"Assigned stack does not exist !\")\n",
        "    elif self.start[stack] == self.end[stack]:\n",
        "      raise ValueError(f\"Stack {stack} is full !\")\n",
        "    else:\n",
        "      self.items[self.start[stack]] = item\n",
        "      self.start[stack] += 1\n",
        "  \n",
        "  def pop(self, stack):\n",
        "    top = self.start[stack] - 1\n",
        "    if stack > 2:\n",
        "      raise ValueError(\"Assigned stack does not exist !\")\n",
        "    elif self.items[top] == None:\n",
        "      raise IndexError(\"Poppin from empty stack bruh !\")\n",
        "    else:\n",
        "      self.items[top] = None\n",
        "      self.start[stack] = top\n",
        "\n",
        "  def display(self):\n",
        "    return self.items"
      ],
      "metadata": {
        "id": "6g1L6mGRNiov"
      },
      "execution_count": 58,
      "outputs": []
    },
    {
      "cell_type": "code",
      "source": [
        "my_stack = Three_Stacks()\n",
        "\n",
        "my_stack.push(1, 9)\n",
        "my_stack.push(1, 8)\n",
        "\n",
        "my_stack.pop(1)\n",
        "my_stack.pop(1)\n",
        "\n",
        "my_stack.push(0, 1)\n",
        "my_stack.push(1, 4)\n",
        "\n",
        "my_stack.display()"
      ],
      "metadata": {
        "colab": {
          "base_uri": "https://localhost:8080/"
        },
        "id": "UQLN-DClIJ1E",
        "outputId": "18c0b526-f095-4240-dfa7-1273894e7e45"
      },
      "execution_count": 59,
      "outputs": [
        {
          "output_type": "execute_result",
          "data": {
            "text/plain": [
              "[1, None, 4, None, None, None]"
            ]
          },
          "metadata": {},
          "execution_count": 59
        }
      ]
    }
  ]
}
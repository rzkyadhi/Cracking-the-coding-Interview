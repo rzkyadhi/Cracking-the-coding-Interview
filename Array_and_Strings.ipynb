{
  "nbformat": 4,
  "nbformat_minor": 0,
  "metadata": {
    "colab": {
      "name": "Array and Strings.ipynb",
      "provenance": [],
      "authorship_tag": "ABX9TyOHZACCv+ciEm6kHTihe2Zl",
      "include_colab_link": true
    },
    "kernelspec": {
      "name": "python3",
      "display_name": "Python 3"
    },
    "language_info": {
      "name": "python"
    }
  },
  "cells": [
    {
      "cell_type": "markdown",
      "metadata": {
        "id": "view-in-github",
        "colab_type": "text"
      },
      "source": [
        "<a href=\"https://colab.research.google.com/github/rzkyadhi/Cracking-the-coding-Interview/blob/main/Array_and_Strings.ipynb\" target=\"_parent\"><img src=\"https://colab.research.google.com/assets/colab-badge.svg\" alt=\"Open In Colab\"/></a>"
      ]
    },
    {
      "cell_type": "markdown",
      "source": [
        "# **1.1 Is Unique**"
      ],
      "metadata": {
        "id": "k0yX7KIie68i"
      }
    },
    {
      "cell_type": "markdown",
      "source": [
        "Implement an algorithm to determine if a string has all unique characters. What if you cannot use additional data structures?"
      ],
      "metadata": {
        "id": "mh71D8t7fJCq"
      }
    },
    {
      "cell_type": "markdown",
      "source": [
        "First Approach : Using Python In-Built Function"
      ],
      "metadata": {
        "id": "KvZ-G75ZfMK0"
      }
    },
    {
      "cell_type": "code",
      "source": [
        "def is_unique(sentence):\n",
        "  #Remove the whitespaces\n",
        "  sentence = sentence.replace(\" \", \"\")\n",
        "  #Return the sentence into lowercase\n",
        "  sentence = sentence.lower()\n",
        "  if len(sentence) > 256:\n",
        "    return False\n",
        "  else:\n",
        "    return len(sentence) == len(set(sentence))\n",
        "\n",
        "print(is_unique(\"Yo Whatsup\"))\n",
        "print(is_unique(\"Kiki\"))"
      ],
      "metadata": {
        "colab": {
          "base_uri": "https://localhost:8080/"
        },
        "id": "zgwIZP6nfGi9",
        "outputId": "5c268181-0674-4019-bfb9-4e01c6b6ff93"
      },
      "execution_count": 116,
      "outputs": [
        {
          "output_type": "stream",
          "name": "stdout",
          "text": [
            "True\n",
            "False\n"
          ]
        }
      ]
    },
    {
      "cell_type": "markdown",
      "source": [
        "Second Approach : Using Brute Force\n",
        "\n"
      ],
      "metadata": {
        "id": "sGhEStsOhgVs"
      }
    },
    {
      "cell_type": "code",
      "source": [
        "def is_unique(sentence):\n",
        "  # Remove the whitespaces\n",
        "  sentence = sentence.replace(\" \", \"\")\n",
        "  # Return the sentence into lowercase\n",
        "  sentence = sentence.lower()\n",
        "  if len(sentence) > 256:\n",
        "    return False\n",
        "  else:\n",
        "    for i in range(len(sentence)):\n",
        "      for j in range(i + 1, len(sentence)):\n",
        "        print(sentence[i])\n",
        "        print(sentence[j])\n",
        "        if sentence[i] == sentence[j]:\n",
        "          print(False)\n",
        "          return False\n",
        "        else:\n",
        "          print(True)\n",
        "          pass\n",
        "    return True\n",
        "\n",
        "print(is_unique(\"Rere\"))\n",
        "print(\"Second Input\")\n",
        "print(is_unique(\"Rizky\"))"
      ],
      "metadata": {
        "colab": {
          "base_uri": "https://localhost:8080/"
        },
        "id": "AiD3n-QRrmWC",
        "outputId": "b6985faa-1e6b-4a6b-d783-c220c0bdbca9"
      },
      "execution_count": 117,
      "outputs": [
        {
          "output_type": "stream",
          "name": "stdout",
          "text": [
            "r\n",
            "e\n",
            "True\n",
            "r\n",
            "r\n",
            "False\n",
            "False\n",
            "Second Input\n",
            "r\n",
            "i\n",
            "True\n",
            "r\n",
            "z\n",
            "True\n",
            "r\n",
            "k\n",
            "True\n",
            "r\n",
            "y\n",
            "True\n",
            "i\n",
            "z\n",
            "True\n",
            "i\n",
            "k\n",
            "True\n",
            "i\n",
            "y\n",
            "True\n",
            "z\n",
            "k\n",
            "True\n",
            "z\n",
            "y\n",
            "True\n",
            "k\n",
            "y\n",
            "True\n",
            "True\n"
          ]
        }
      ]
    },
    {
      "cell_type": "markdown",
      "source": [
        "Third Approach : Using Hash Tables"
      ],
      "metadata": {
        "id": "JzIxOONZxJlq"
      }
    },
    {
      "cell_type": "code",
      "source": [
        "def is_unique(sentence):\n",
        "  # Remove the whitespaces\n",
        "  sentence = sentence.replace(\" \", \"\")\n",
        "  # Return sentences into lowercase\n",
        "  sentence = sentence.lower()\n",
        "  if len(sentence) > 256:\n",
        "    return False\n",
        "  else:\n",
        "    hash_tables = {}\n",
        "    for i in sentence:\n",
        "      print(hash_tables)\n",
        "      print(i)\n",
        "      if i in hash_tables:\n",
        "        print(hash_tables)\n",
        "        return False\n",
        "      else:\n",
        "        print(hash_tables)\n",
        "        hash_tables[i] = True\n",
        "        print(hash_tables)\n",
        "    return True\n",
        "\n",
        "print(is_unique(\"Yo Whatsup\"))"
      ],
      "metadata": {
        "colab": {
          "base_uri": "https://localhost:8080/"
        },
        "id": "5G2LZ_LvfVgr",
        "outputId": "e5c1afc3-ca76-4fce-9899-18928f8a8b17"
      },
      "execution_count": 68,
      "outputs": [
        {
          "output_type": "stream",
          "name": "stdout",
          "text": [
            "{}\n",
            "y\n",
            "{}\n",
            "{'y': True}\n",
            "{'y': True}\n",
            "o\n",
            "{'y': True}\n",
            "{'y': True, 'o': True}\n",
            "{'y': True, 'o': True}\n",
            "w\n",
            "{'y': True, 'o': True}\n",
            "{'y': True, 'o': True, 'w': True}\n",
            "{'y': True, 'o': True, 'w': True}\n",
            "h\n",
            "{'y': True, 'o': True, 'w': True}\n",
            "{'y': True, 'o': True, 'w': True, 'h': True}\n",
            "{'y': True, 'o': True, 'w': True, 'h': True}\n",
            "a\n",
            "{'y': True, 'o': True, 'w': True, 'h': True}\n",
            "{'y': True, 'o': True, 'w': True, 'h': True, 'a': True}\n",
            "{'y': True, 'o': True, 'w': True, 'h': True, 'a': True}\n",
            "t\n",
            "{'y': True, 'o': True, 'w': True, 'h': True, 'a': True}\n",
            "{'y': True, 'o': True, 'w': True, 'h': True, 'a': True, 't': True}\n",
            "{'y': True, 'o': True, 'w': True, 'h': True, 'a': True, 't': True}\n",
            "s\n",
            "{'y': True, 'o': True, 'w': True, 'h': True, 'a': True, 't': True}\n",
            "{'y': True, 'o': True, 'w': True, 'h': True, 'a': True, 't': True, 's': True}\n",
            "{'y': True, 'o': True, 'w': True, 'h': True, 'a': True, 't': True, 's': True}\n",
            "u\n",
            "{'y': True, 'o': True, 'w': True, 'h': True, 'a': True, 't': True, 's': True}\n",
            "{'y': True, 'o': True, 'w': True, 'h': True, 'a': True, 't': True, 's': True, 'u': True}\n",
            "{'y': True, 'o': True, 'w': True, 'h': True, 'a': True, 't': True, 's': True, 'u': True}\n",
            "p\n",
            "{'y': True, 'o': True, 'w': True, 'h': True, 'a': True, 't': True, 's': True, 'u': True}\n",
            "{'y': True, 'o': True, 'w': True, 'h': True, 'a': True, 't': True, 's': True, 'u': True, 'p': True}\n",
            "True\n"
          ]
        }
      ]
    },
    {
      "cell_type": "code",
      "source": [
        ""
      ],
      "metadata": {
        "id": "UkvnI8Wns5Oa"
      },
      "execution_count": null,
      "outputs": []
    }
  ]
}
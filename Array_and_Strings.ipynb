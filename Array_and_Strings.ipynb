{
  "nbformat": 4,
  "nbformat_minor": 0,
  "metadata": {
    "colab": {
      "name": "Array and Strings.ipynb",
      "provenance": [],
      "authorship_tag": "ABX9TyMdN1DX2gFTN8D1US/jP1HF",
      "include_colab_link": true
    },
    "kernelspec": {
      "name": "python3",
      "display_name": "Python 3"
    },
    "language_info": {
      "name": "python"
    }
  },
  "cells": [
    {
      "cell_type": "markdown",
      "metadata": {
        "id": "view-in-github",
        "colab_type": "text"
      },
      "source": [
        "<a href=\"https://colab.research.google.com/github/rzkyadhi/Cracking-the-coding-Interview/blob/main/Array_and_Strings.ipynb\" target=\"_parent\"><img src=\"https://colab.research.google.com/assets/colab-badge.svg\" alt=\"Open In Colab\"/></a>"
      ]
    },
    {
      "cell_type": "markdown",
      "source": [
        "# **1.1 Is Unique**"
      ],
      "metadata": {
        "id": "k0yX7KIie68i"
      }
    },
    {
      "cell_type": "markdown",
      "source": [
        "Implement an algorithm to determine if a string has all unique characters. What if you cannot use additional data structures?"
      ],
      "metadata": {
        "id": "mh71D8t7fJCq"
      }
    },
    {
      "cell_type": "markdown",
      "source": [
        "First Approach : Using Python In-Built Function"
      ],
      "metadata": {
        "id": "KvZ-G75ZfMK0"
      }
    },
    {
      "cell_type": "code",
      "source": [
        "def is_unique(sentence):\n",
        "  #Remove the whitespaces\n",
        "  sentence = sentence.replace(\" \", \"\")\n",
        "  #Return the sentence into lowercase\n",
        "  sentence = sentence.lower()\n",
        "  if len(sentence) > 256:\n",
        "    return False\n",
        "  else:\n",
        "    return len(sentence) == len(set(sentence))\n",
        "\n",
        "print(is_unique(\"Yo Whatsup\"))\n",
        "print(is_unique(\"Kiki\"))"
      ],
      "metadata": {
        "colab": {
          "base_uri": "https://localhost:8080/"
        },
        "id": "zgwIZP6nfGi9",
        "outputId": "5c268181-0674-4019-bfb9-4e01c6b6ff93"
      },
      "execution_count": null,
      "outputs": [
        {
          "output_type": "stream",
          "name": "stdout",
          "text": [
            "True\n",
            "False\n"
          ]
        }
      ]
    },
    {
      "cell_type": "markdown",
      "source": [
        "Second Approach : Using Brute Force\n",
        "\n"
      ],
      "metadata": {
        "id": "sGhEStsOhgVs"
      }
    },
    {
      "cell_type": "code",
      "source": [
        "def is_unique(sentence):\n",
        "  # Remove the whitespaces\n",
        "  sentence = sentence.replace(\" \", \"\")\n",
        "  # Return the sentence into lowercase\n",
        "  sentence = sentence.lower()\n",
        "  if len(sentence) > 256:\n",
        "    return False\n",
        "  else:\n",
        "    for i in range(len(sentence)):\n",
        "      for j in range(i + 1, len(sentence)):\n",
        "        print(sentence[i])\n",
        "        print(sentence[j])\n",
        "        if sentence[i] == sentence[j]:\n",
        "          print(False)\n",
        "          return False\n",
        "        else:\n",
        "          print(True)\n",
        "          pass\n",
        "    return True\n",
        "\n",
        "print(is_unique(\"Rere\"))\n",
        "print(\"Second Input\")\n",
        "print(is_unique(\"Rizky\"))"
      ],
      "metadata": {
        "colab": {
          "base_uri": "https://localhost:8080/"
        },
        "id": "AiD3n-QRrmWC",
        "outputId": "b6985faa-1e6b-4a6b-d783-c220c0bdbca9"
      },
      "execution_count": null,
      "outputs": [
        {
          "output_type": "stream",
          "name": "stdout",
          "text": [
            "r\n",
            "e\n",
            "True\n",
            "r\n",
            "r\n",
            "False\n",
            "False\n",
            "Second Input\n",
            "r\n",
            "i\n",
            "True\n",
            "r\n",
            "z\n",
            "True\n",
            "r\n",
            "k\n",
            "True\n",
            "r\n",
            "y\n",
            "True\n",
            "i\n",
            "z\n",
            "True\n",
            "i\n",
            "k\n",
            "True\n",
            "i\n",
            "y\n",
            "True\n",
            "z\n",
            "k\n",
            "True\n",
            "z\n",
            "y\n",
            "True\n",
            "k\n",
            "y\n",
            "True\n",
            "True\n"
          ]
        }
      ]
    },
    {
      "cell_type": "markdown",
      "source": [
        "Third Approach : Using Hash Tables"
      ],
      "metadata": {
        "id": "JzIxOONZxJlq"
      }
    },
    {
      "cell_type": "code",
      "source": [
        "def is_unique(sentence):\n",
        "  # Remove the whitespaces\n",
        "  sentence = sentence.replace(\" \", \"\")\n",
        "  # Return sentences into lowercase\n",
        "  sentence = sentence.lower()\n",
        "  if len(sentence) > 256:\n",
        "    return False\n",
        "  else:\n",
        "    hash_tables = {}\n",
        "    for i in sentence:\n",
        "      print(hash_tables)\n",
        "      print(i)\n",
        "      if i in hash_tables:\n",
        "        print(hash_tables)\n",
        "        return False\n",
        "      else:\n",
        "        print(hash_tables)\n",
        "        hash_tables[i] = True\n",
        "        print(hash_tables)\n",
        "    return True\n",
        "\n",
        "print(is_unique(\"Yo Whatsup\"))"
      ],
      "metadata": {
        "colab": {
          "base_uri": "https://localhost:8080/"
        },
        "id": "5G2LZ_LvfVgr",
        "outputId": "e5c1afc3-ca76-4fce-9899-18928f8a8b17"
      },
      "execution_count": null,
      "outputs": [
        {
          "output_type": "stream",
          "name": "stdout",
          "text": [
            "{}\n",
            "y\n",
            "{}\n",
            "{'y': True}\n",
            "{'y': True}\n",
            "o\n",
            "{'y': True}\n",
            "{'y': True, 'o': True}\n",
            "{'y': True, 'o': True}\n",
            "w\n",
            "{'y': True, 'o': True}\n",
            "{'y': True, 'o': True, 'w': True}\n",
            "{'y': True, 'o': True, 'w': True}\n",
            "h\n",
            "{'y': True, 'o': True, 'w': True}\n",
            "{'y': True, 'o': True, 'w': True, 'h': True}\n",
            "{'y': True, 'o': True, 'w': True, 'h': True}\n",
            "a\n",
            "{'y': True, 'o': True, 'w': True, 'h': True}\n",
            "{'y': True, 'o': True, 'w': True, 'h': True, 'a': True}\n",
            "{'y': True, 'o': True, 'w': True, 'h': True, 'a': True}\n",
            "t\n",
            "{'y': True, 'o': True, 'w': True, 'h': True, 'a': True}\n",
            "{'y': True, 'o': True, 'w': True, 'h': True, 'a': True, 't': True}\n",
            "{'y': True, 'o': True, 'w': True, 'h': True, 'a': True, 't': True}\n",
            "s\n",
            "{'y': True, 'o': True, 'w': True, 'h': True, 'a': True, 't': True}\n",
            "{'y': True, 'o': True, 'w': True, 'h': True, 'a': True, 't': True, 's': True}\n",
            "{'y': True, 'o': True, 'w': True, 'h': True, 'a': True, 't': True, 's': True}\n",
            "u\n",
            "{'y': True, 'o': True, 'w': True, 'h': True, 'a': True, 't': True, 's': True}\n",
            "{'y': True, 'o': True, 'w': True, 'h': True, 'a': True, 't': True, 's': True, 'u': True}\n",
            "{'y': True, 'o': True, 'w': True, 'h': True, 'a': True, 't': True, 's': True, 'u': True}\n",
            "p\n",
            "{'y': True, 'o': True, 'w': True, 'h': True, 'a': True, 't': True, 's': True, 'u': True}\n",
            "{'y': True, 'o': True, 'w': True, 'h': True, 'a': True, 't': True, 's': True, 'u': True, 'p': True}\n",
            "True\n"
          ]
        }
      ]
    },
    {
      "cell_type": "markdown",
      "source": [
        "# **1.2 Check Permutation**"
      ],
      "metadata": {
        "id": "ecIUQg8IyRur"
      }
    },
    {
      "cell_type": "markdown",
      "source": [
        "Given two strings, write a method to decide if one is a permutation of the other"
      ],
      "metadata": {
        "id": "h-KwFaotMK6Y"
      }
    },
    {
      "cell_type": "markdown",
      "source": [
        "First Approach : Sort the sentence and do the brute force"
      ],
      "metadata": {
        "id": "H3s6k1F2MUVL"
      }
    },
    {
      "cell_type": "code",
      "source": [
        "def check_permutation(first_sentence, second_sentence):\n",
        "  # Remove the whitespaces\n",
        "  first_sentence = first_sentence.replace(\" \", \"\")\n",
        "  second_sentence = second_sentence.replace(\" \", \"\")\n",
        "\n",
        "  # Return the sentence into lowercase\n",
        "  first_sentence = first_sentence.lower()\n",
        "  second_sentence = second_sentence.lower()\n",
        "\n",
        "  # Using Sorted\n",
        "  first_sentence = \"\".join(sorted(first_sentence))\n",
        "  second_sentence = \"\".join(sorted(second_sentence))\n",
        "\n",
        "  if len(first_sentence) != len(second_sentence):\n",
        "    return False\n",
        "  else:\n",
        "    pass\n",
        "\n",
        "  for i in range(len(first_sentence)):\n",
        "    if first_sentence[i] != second_sentence[i]:\n",
        "      return False\n",
        "    else:\n",
        "      pass\n",
        "  return True\n",
        "\n",
        "print(check_permutation(\"ddog\", \"gdod\"))\n",
        "print(check_permutation(\"windows\", \"swidown\"))\n",
        "print(check_permutation(\"English and Indonesia\", \"English and Malaysia\"))"
      ],
      "metadata": {
        "colab": {
          "base_uri": "https://localhost:8080/"
        },
        "id": "BybS-JyvISCB",
        "outputId": "eda6ee6e-6fe3-4389-dfaa-9bac93101413"
      },
      "execution_count": null,
      "outputs": [
        {
          "output_type": "stream",
          "name": "stdout",
          "text": [
            "True\n",
            "True\n",
            "False\n"
          ]
        }
      ]
    },
    {
      "cell_type": "markdown",
      "source": [
        "Second Approach : Using Hash Table"
      ],
      "metadata": {
        "id": "bxL5xDlVMnXz"
      }
    },
    {
      "cell_type": "code",
      "source": [
        "def check_permutation(first_sentence, second_sentence):\n",
        "  # Remove the whitespaces\n",
        "  first_sentence = first_sentence.replace(\" \", \"\")\n",
        "  second_sentence = second_sentence.replace(\" \", \"\")\n",
        "\n",
        "  # Return the sentence into lowercase\n",
        "  first_sentence = first_sentence.lower()\n",
        "  second_sentence = second_sentence.lower()\n",
        "\n",
        "  if len(first_sentence) != len(second_sentence):\n",
        "    return False\n",
        "  else:\n",
        "    pass\n",
        "\n",
        "  hash_table = dict()\n",
        "  for i in first_sentence:\n",
        "    if i in hash_table:\n",
        "      hash_table[i] += 1\n",
        "    else:\n",
        "      hash_table[i] = 1\n",
        "  print(hash_table)\n",
        "  for i in second_sentence:\n",
        "    if i in hash_table:\n",
        "      hash_table[i] -= 1\n",
        "    else:\n",
        "      pass\n",
        "\n",
        "  print(hash_table)\n",
        "\n",
        "  return all(value == 0 for value in hash_table.values())\n",
        "\n",
        "print(check_permutation(\"xxahba\", \"baxxha\"))"
      ],
      "metadata": {
        "colab": {
          "base_uri": "https://localhost:8080/"
        },
        "id": "5kxxirigMl62",
        "outputId": "662fa204-bfed-407d-dd63-711bb48e2d91"
      },
      "execution_count": null,
      "outputs": [
        {
          "output_type": "stream",
          "name": "stdout",
          "text": [
            "{'x': 2, 'a': 2, 'h': 1, 'b': 1}\n",
            "{'x': 0, 'a': 0, 'h': 0, 'b': 0}\n",
            "True\n"
          ]
        }
      ]
    },
    {
      "cell_type": "markdown",
      "source": [
        "# **1.3 URLify**"
      ],
      "metadata": {
        "id": "j4yCfB93U5N-"
      }
    },
    {
      "cell_type": "markdown",
      "source": [
        "Write a method to replace all spaces in a string with %20. You may assume that the string has sufficient space at the end to hold the additional characters, and  that you are given the \"true\" length of the string."
      ],
      "metadata": {
        "id": "4f4L6b98g54Z"
      }
    },
    {
      "cell_type": "markdown",
      "source": [
        "First approach : Remove the whitespaces of after sentence_length index"
      ],
      "metadata": {
        "id": "hoqcogiZhUvV"
      }
    },
    {
      "cell_type": "code",
      "source": [
        "def check_url(sentence, sentence_length):\n",
        "  # Remove the whitespaces after sentence_length index\n",
        "  sentence = sentence[0:sentence_length]\n",
        "  # Change the whitespaces into %20\n",
        "  sentence = sentence.replace(\" \", \"%20\")\n",
        "\n",
        "  print(sentence)\n",
        "\n",
        "sentence = \"Mr John Smith    \"\n",
        "sentence_length = 13\n",
        "check_url(sentence, sentence_length)"
      ],
      "metadata": {
        "colab": {
          "base_uri": "https://localhost:8080/"
        },
        "id": "qFRCbaRLVB9u",
        "outputId": "f7af3e04-0eb7-43a7-811f-052242e7538d"
      },
      "execution_count": null,
      "outputs": [
        {
          "output_type": "stream",
          "name": "stdout",
          "text": [
            "Mr%20John%20Smith\n"
          ]
        }
      ]
    },
    {
      "cell_type": "markdown",
      "source": [
        "Second Approach : Using List"
      ],
      "metadata": {
        "id": "rvmtjEpmjy-J"
      }
    },
    {
      "cell_type": "code",
      "source": [
        "def check_url(sentence, sentence_length):\n",
        "  sentence_list = list()\n",
        "  for i in sentence[0:sentence_length]:\n",
        "    if i is \" \":\n",
        "      temp = \"%20\"\n",
        "    else:\n",
        "      temp = i\n",
        "    sentence_list.append(temp)\n",
        "  \n",
        "  return \"\".join(sentence_list)\n",
        "\n",
        "sentence = \"Mr John Smith   \"\n",
        "sentence_length = 13\n",
        "check_url(sentence, sentence_length)"
      ],
      "metadata": {
        "colab": {
          "base_uri": "https://localhost:8080/",
          "height": 35
        },
        "id": "ocBW7y8BVMmp",
        "outputId": "7284b90e-0d79-47ca-9299-2bf5494a0e92"
      },
      "execution_count": null,
      "outputs": [
        {
          "output_type": "execute_result",
          "data": {
            "application/vnd.google.colaboratory.intrinsic+json": {
              "type": "string"
            },
            "text/plain": [
              "'Mr%20John%20Smith'"
            ]
          },
          "metadata": {},
          "execution_count": 41
        }
      ]
    },
    {
      "cell_type": "markdown",
      "source": [
        "# **1.4 Palindrome Permutation**"
      ],
      "metadata": {
        "id": "B7Wqt_3B28MK"
      }
    },
    {
      "cell_type": "markdown",
      "source": [
        "Given a string, write a function to check if it is a permutation of a palindrome. A palindrome is a word or phrase that is the same forwards and backwards. A permutation is a rearrangement of letters. The palindrome does not need to be limited to just dictionary words."
      ],
      "metadata": {
        "id": "1Q3UCzRl3Aey"
      }
    },
    {
      "cell_type": "markdown",
      "source": [
        "Approach : put the sentence into new variable in reverse and check the status"
      ],
      "metadata": {
        "id": "4pS0HTMTADOc"
      }
    },
    {
      "cell_type": "code",
      "source": [
        "def palindrome_permutation(sentence):\n",
        "  # Remove the whitespaces\n",
        "  sentence = sentence.replace(\" \", \"\")\n",
        "  # Return the sentences into lowercase\n",
        "  sentence = sentence.lower()\n",
        "\n",
        "  sentence_palindrome = sentence[::-1]\n",
        "\n",
        "  print(sentence, sentence_palindrome)\n",
        "\n",
        "  if sentence != sentence_palindrome:\n",
        "    return False\n",
        "  else:\n",
        "    return True\n",
        "\n",
        "print(palindrome_permutation(\"Taco Cat\"))\n",
        "print(palindrome_permutation(\"Not Palindrome\"))\n",
        "print(palindrome_permutation(\"racecar\"))\n",
        "print(palindrome_permutation(\"rrcecaa\"))\n",
        "print(palindrome_permutation(\"atco cta\"))"
      ],
      "metadata": {
        "colab": {
          "base_uri": "https://localhost:8080/"
        },
        "id": "RYmC3UVp3WJU",
        "outputId": "effa64bd-130e-4473-b27a-a79600c771c8"
      },
      "execution_count": null,
      "outputs": [
        {
          "output_type": "stream",
          "name": "stdout",
          "text": [
            "tacocat tacocat\n",
            "True\n",
            "notpalindrome emordnilapton\n",
            "False\n",
            "racecar racecar\n",
            "True\n",
            "rrcecaa aacecrr\n",
            "False\n",
            "atcocta atcocta\n",
            "True\n"
          ]
        }
      ]
    },
    {
      "cell_type": "markdown",
      "source": [
        "# **1.5 One Away**"
      ],
      "metadata": {
        "id": "Yvh7B_2Xb_WQ"
      }
    },
    {
      "cell_type": "markdown",
      "source": [
        "There are three types of edits that can be performed on strings: insert a character, remove a character, or replace a character. Given two strings, write a function to check if they are one edit(or zero edits) away."
      ],
      "metadata": {
        "id": "dzMmWBzOcDEd"
      }
    },
    {
      "cell_type": "markdown",
      "source": [
        "Approach : Using Built-in sorted() and hash table"
      ],
      "metadata": {
        "id": "bqYNDXqQcVTp"
      }
    },
    {
      "cell_type": "code",
      "source": [
        "def one_away(sentence_one, sentence_two):\n",
        "  sentence_one = sorted(sentence_one)\n",
        "  sentence_two = sorted(sentence_two)\n",
        "\n",
        "  hash_table = dict()\n",
        "  total = 0\n",
        "  \n",
        "  if len(sentence_one) > len(sentence_two):\n",
        "    substract_len = len(sentence_one) - len(sentence_two)\n",
        "\n",
        "    if substract_len >= 2:\n",
        "      return \"Length Difference is two or more than two\"\n",
        "    else:\n",
        "      for i in sentence_one:\n",
        "        if i in hash_table:\n",
        "          hash_table[i] += 1\n",
        "        else:\n",
        "          hash_table[i] = 1\n",
        "\n",
        "      for i in sentence_two:\n",
        "        if i in hash_table:\n",
        "          hash_table[i] -= 1\n",
        "        else:\n",
        "          hash_table[i] = 1\n",
        "\n",
        "  else:\n",
        "    substract_len = len(sentence_two) - len(sentence_one)\n",
        "\n",
        "    if substract_len >= 2:\n",
        "      return \"Length Difference is two or more than two\"\n",
        "    else:\n",
        "      for i in sentence_two:\n",
        "        if i in hash_table:\n",
        "          hash_table[i] += 1\n",
        "        else:\n",
        "          hash_table[i] = 1\n",
        "\n",
        "      for i in sentence_one:\n",
        "        if i in hash_table:\n",
        "          hash_table[i] -= 1\n",
        "        else:\n",
        "          hash_table[i] = 1\n",
        "\n",
        "  for k, v in list(hash_table.items()):\n",
        "    if v == 0:\n",
        "      del hash_table[k]\n",
        "\n",
        "  for value in hash_table.values():\n",
        "    total += value\n",
        "\n",
        "  print(hash_table.items())\n",
        "  print(total)\n",
        "\n",
        "  if total == 0 or total == 1:\n",
        "    return True\n",
        "  elif total == 2:\n",
        "    if len(hash_table.keys()) <= 2:\n",
        "      return True\n",
        "    else:\n",
        "      return False\n",
        "  else:\n",
        "    return False\n",
        "\n",
        "\n",
        "print(\"CASE 1: \",one_away(\"pale\", \"ple\"))\n",
        "print(\"CASE 2: \",one_away(\"pales\", \"pale\"))\n",
        "print(\"CASE 3: \",one_away(\"pale\", \"bale\"))\n",
        "print(\"CASE 4: \",one_away(\"pale\", \"bake\"))\n",
        "print(\"CASE 5: \",one_away(\"kekw\", \"wkek\"))\n",
        "print(\"CASE 6: \",one_away(\"homies\", \"homi\"))"
      ],
      "metadata": {
        "colab": {
          "base_uri": "https://localhost:8080/"
        },
        "id": "KY09c7hRGIWH",
        "outputId": "a61ada2a-ebef-49ed-fc26-514c43d4b8b9"
      },
      "execution_count": null,
      "outputs": [
        {
          "output_type": "stream",
          "name": "stdout",
          "text": [
            "dict_items([('a', 1)])\n",
            "1\n",
            "CASE 1:  True\n",
            "dict_items([('s', 1)])\n",
            "1\n",
            "CASE 2:  True\n",
            "dict_items([('b', 1), ('p', 1)])\n",
            "2\n",
            "CASE 3:  True\n",
            "dict_items([('b', 1), ('k', 1), ('l', 1), ('p', 1)])\n",
            "4\n",
            "CASE 4:  False\n",
            "dict_items([])\n",
            "0\n",
            "CASE 5:  True\n",
            "CASE 6:  Length Difference is two or more than two\n"
          ]
        }
      ]
    },
    {
      "cell_type": "markdown",
      "source": [
        "# **1.6 String Compression**"
      ],
      "metadata": {
        "id": "sZQuWL-E5kNl"
      }
    },
    {
      "cell_type": "markdown",
      "source": [
        "Implement a method to perform basic string compression using the counts of repeated characters. If the \"compressed\" string would not become smaller than the original string, your method should return the original string. You can assume the string has only uppercase and lowercase letters(a - z)"
      ],
      "metadata": {
        "id": "PDqui6CFTW_i"
      }
    },
    {
      "cell_type": "markdown",
      "source": [
        "Approach : Check the current string and the next string"
      ],
      "metadata": {
        "id": "lV1SiTaRT2tc"
      }
    },
    {
      "cell_type": "code",
      "source": [
        "def string_compression(sentence):\n",
        "  count = 1\n",
        "  join_string = \"\"\n",
        "  for i in range(len(sentence) - 1):\n",
        "    if sentence[i] == sentence[i + 1]:\n",
        "      count += 1\n",
        "    else:\n",
        "      join_string += sentence[i] + str(count)\n",
        "      count = 1\n",
        "\n",
        "  join_string += sentence[i] + str(count)\n",
        "  \n",
        "  if len(join_string) >= len(sentence):\n",
        "    return sentence\n",
        "  else:\n",
        "    return join_string\n",
        "\n",
        "print(string_compression(\"aabcccccaaa\"))\n",
        "print(string_compression(\"aaabc\"))"
      ],
      "metadata": {
        "colab": {
          "base_uri": "https://localhost:8080/"
        },
        "id": "eOuz5O3z5jmB",
        "outputId": "83a223e9-5492-4431-cc1c-40a1e45969aa"
      },
      "execution_count": null,
      "outputs": [
        {
          "output_type": "stream",
          "name": "stdout",
          "text": [
            "a2b1c5a3\n",
            "aaabc\n"
          ]
        }
      ]
    },
    {
      "cell_type": "markdown",
      "source": [
        "Second Approach : Using Hash Table 🥰"
      ],
      "metadata": {
        "id": "RrxJMuwSeq0r"
      }
    },
    {
      "cell_type": "code",
      "source": [
        "def string_compression(sentence):\n",
        "  hash_table = dict()\n",
        "  join_string = \"\"\n",
        "  count = 1\n",
        "  for i in range(len(sentence) - 1):\n",
        "    if sentence[i] == sentence[i + 1]:\n",
        "      #print(\"IF : \", sentence[i], sentence[i + 1])\n",
        "      count += 1\n",
        "    else:\n",
        "      #print(\"ELSE : \", sentence[i], sentence[i + 1])\n",
        "      hash_table[sentence[i]] = count\n",
        "      for k, v in hash_table.items():\n",
        "        if k == sentence[i]:\n",
        "          value = v\n",
        "      join_string += sentence[i] + str(value)\n",
        "      for k, v in list(hash_table.items()):\n",
        "        if v >= 0:\n",
        "          del hash_table[k]\n",
        "      #print(\"DEL : \", hash_table)\n",
        "      count = 1\n",
        "\n",
        "  if sentence[-1] != sentence[-2]:\n",
        "    for k, v in list(hash_table.items()):\n",
        "      if v >= 0:\n",
        "        del hash_table[k]\n",
        "    hash_table[sentence[-1]] = 1\n",
        "    for k, v in hash_table.items():\n",
        "      if k == sentence[-1]:\n",
        "        value = v\n",
        "    join_string += sentence[-1] + str(value)\n",
        "  else:\n",
        "    hash_table[sentence[i]] = count\n",
        "    for k, v in hash_table.items():\n",
        "      if k == sentence[i]:\n",
        "        value = v\n",
        "    join_string += sentence[i] + str(value)\n",
        "\n",
        "  if len(join_string) >= len(sentence):\n",
        "    return sentence\n",
        "  else:\n",
        "    return join_string\n",
        "\n",
        "print(\"CASE 1: \", string_compression(\"aabcccccaaa\"))\n",
        "print(\"CASE 2: \", string_compression(\"aabcccccaa\"))\n",
        "print(\"CASE 3: \", string_compression(\"aabccccca\"))\n",
        "print(\"CASE 4: \", string_compression(\"AAbccccca\"))\n",
        "print(\"CASE 5: \", string_compression(\"aabc\"))"
      ],
      "metadata": {
        "colab": {
          "base_uri": "https://localhost:8080/"
        },
        "id": "dbvAzUVc-CP8",
        "outputId": "4c989059-f1f9-4803-cb77-ebb810caf5c2"
      },
      "execution_count": null,
      "outputs": [
        {
          "output_type": "stream",
          "name": "stdout",
          "text": [
            "CASE 1:  a2b1c5a3\n",
            "CASE 2:  a2b1c5a2\n",
            "CASE 3:  a2b1c5a1\n",
            "CASE 4:  A2b1c5a1\n",
            "CASE 5:  aabc\n"
          ]
        }
      ]
    },
    {
      "cell_type": "markdown",
      "source": [
        "# **1.7 Rotate Matrix**"
      ],
      "metadata": {
        "id": "JLJS1R-8UxLn"
      }
    },
    {
      "cell_type": "markdown",
      "source": [
        "Given an image represented by a NxN matrix, where each pixel in the image is 4 bytes, write a method to rotate the image by 90 degrees. Can you do this in place?"
      ],
      "metadata": {
        "id": "mVmmAJyniRYX"
      }
    },
    {
      "cell_type": "markdown",
      "source": [
        "Approach : Using Temporary Variable for 1 value and move it over also the rest"
      ],
      "metadata": {
        "id": "bXIpWOPcigyN"
      }
    },
    {
      "cell_type": "code",
      "source": [
        "def rotate_matrix(matrix):\n",
        "  left = 0\n",
        "  right = len(matrix) - 1\n",
        "  while left < right:\n",
        "    for i in range(right - left):\n",
        "      #print(left, right)\n",
        "      #print(i)\n",
        "      top = left\n",
        "      bottom = right\n",
        "\n",
        "      matrix_temp = matrix[top][left + i]\n",
        "\n",
        "      matrix[top][left + i] = matrix[bottom - i][left]\n",
        "      #print(\"PROCESS 1 :\", matrix)\n",
        "\n",
        "      matrix[bottom - i][left] = matrix[bottom][right - i]\n",
        "      #print(\"PROCESS 2 :\", matrix)\n",
        "      \n",
        "      matrix[bottom][right - i] = matrix[top + i][right]\n",
        "      #print(\"PROCESS 3 :\", matrix)\n",
        "      \n",
        "      matrix[top + i][right] = matrix_temp\n",
        "      #print(\"PROCESS 4 :\", matrix)\n",
        "\n",
        "    right -= 1\n",
        "    left += 1\n",
        "\n",
        "  return matrix\n",
        "\n",
        "print(\"CASE 1: \", rotate_matrix([[1,2,3], [4,5,6], [7,8,9]]))\n",
        "print(\"CASE 2: \", rotate_matrix([[1,2,3,4], [5,6,7,8], [9,10,11,12], [13,14,15,16]]))"
      ],
      "metadata": {
        "colab": {
          "base_uri": "https://localhost:8080/"
        },
        "id": "eePR98uOU0v3",
        "outputId": "7d731dc1-c1f0-473d-ffbf-0dd4e09df1d8"
      },
      "execution_count": null,
      "outputs": [
        {
          "output_type": "stream",
          "name": "stdout",
          "text": [
            "CASE 1:  [[7, 4, 1], [8, 5, 2], [9, 6, 3]]\n",
            "CASE 2:  [[13, 9, 5, 1], [14, 10, 6, 2], [15, 11, 7, 3], [16, 12, 8, 4]]\n"
          ]
        }
      ]
    },
    {
      "cell_type": "markdown",
      "source": [
        "# **1.8 Zero Matrix**"
      ],
      "metadata": {
        "id": "bKDnlhTtKeH0"
      }
    },
    {
      "cell_type": "markdown",
      "source": [
        "Write an algorithm such that if an element in an MxN matrix is 0. its entire row and column are set to 0"
      ],
      "metadata": {
        "id": "IbrW-T7pYkPq"
      }
    },
    {
      "cell_type": "markdown",
      "source": [
        "Approach : Using Hash Table ⚡"
      ],
      "metadata": {
        "id": "_rsJml7wY1sW"
      }
    },
    {
      "cell_type": "code",
      "source": [
        "def zero_matrix(matrix):\n",
        "  rows = len(matrix)\n",
        "  columns = len(matrix[0])\n",
        "  hash_table_row = dict()\n",
        "  hash_table_column = dict()\n",
        "\n",
        "  for row in range(rows):\n",
        "    for column in range(columns):\n",
        "      if matrix[row][column] == 0:\n",
        "        hash_table_row[row] = row\n",
        "        hash_table_column[column] = column\n",
        "\n",
        "  for k,v in hash_table_row.items():\n",
        "    for column in range(columns):\n",
        "      value = v\n",
        "      matrix[value][column] = 0\n",
        "\n",
        "  for k,v in hash_table_column.items():\n",
        "    for row in range(rows):\n",
        "      value = v\n",
        "      matrix[row][value] = 0\n",
        "\n",
        "  for k,v in list(hash_table_row.items()):\n",
        "    if v >=0:\n",
        "      del hash_table_row[k]\n",
        "\n",
        "  for k,v in list(hash_table_column.items()):\n",
        "    if v >=0:\n",
        "      del hash_table_column[k]\n",
        "\n",
        "  print(hash_table_row)\n",
        "  print(hash_table_column)   \n",
        "  return matrix\n",
        "\n",
        "print(\"CASE 1: \", zero_matrix([[1, 0, 1], [1, 1, 1], [1, 1, 1]]))\n",
        "print(\"CASE 2: \", zero_matrix([[1, 0, 1, 1], [1, 1, 1, 0], [1, 1, 1, 1]]))\n",
        "print(\"CASE 3: \", zero_matrix([[1, 0, 1, 1, 1], [1, 1, 1, 0, 1], [1, 1, 1, 1, 1]]))\n",
        "print(\"CASE 4: \", zero_matrix([[0, 2, 6, 8], [9, 7, 5, 3], [2, 3, 5, 8]]))"
      ],
      "metadata": {
        "id": "rWacs9lSg1Yv",
        "colab": {
          "base_uri": "https://localhost:8080/"
        },
        "outputId": "1dda358a-9b21-4855-f7ae-625a70157644"
      },
      "execution_count": null,
      "outputs": [
        {
          "output_type": "stream",
          "name": "stdout",
          "text": [
            "{}\n",
            "{}\n",
            "CASE 1:  [[0, 0, 0], [1, 0, 1], [1, 0, 1]]\n",
            "{}\n",
            "{}\n",
            "CASE 2:  [[0, 0, 0, 0], [0, 0, 0, 0], [1, 0, 1, 0]]\n",
            "{}\n",
            "{}\n",
            "CASE 3:  [[0, 0, 0, 0, 0], [0, 0, 0, 0, 0], [1, 0, 1, 0, 1]]\n",
            "{}\n",
            "{}\n",
            "CASE 4:  [[0, 0, 0, 0], [0, 7, 5, 3], [0, 3, 5, 8]]\n"
          ]
        }
      ]
    },
    {
      "cell_type": "markdown",
      "source": [
        "# **1.9 String Rotation**"
      ],
      "metadata": {
        "id": "c3ek7NmvXqW7"
      }
    },
    {
      "cell_type": "markdown",
      "source": [
        "Assume you have a method isSubstring which checks if one word is a substring of another, Given two strings, s1 and s2. Write code to check if s2 is a rotation of s1 using only call to isSubstring (e.g., \"waterbottle\" is a rotation of \"erbottlewat\")"
      ],
      "metadata": {
        "id": "jJKGuKM6ZZTG"
      }
    },
    {
      "cell_type": "markdown",
      "source": [
        "Approach : Using Hash Table 🥰"
      ],
      "metadata": {
        "id": "zmZusVcSZy-2"
      }
    },
    {
      "cell_type": "code",
      "source": [
        "def is_substring(sentence_one, sentence_two):\n",
        "  hash_table = dict()\n",
        "\n",
        "  for i in sentence_one:\n",
        "    if i in hash_table:\n",
        "      hash_table[i] += 1\n",
        "    else:\n",
        "      hash_table[i] = 1\n",
        "  \n",
        "  for i in sentence_two:\n",
        "    if i in hash_table:\n",
        "      hash_table[i] -= 1\n",
        "    else:\n",
        "      hash_table[i] = 1\n",
        "\n",
        "  return all(value == 0 for value in hash_table.values())\n",
        "\n",
        "print(\"CASE 1 :\", is_substring(\"waterbottle\", \"erbottlewat\"))\n",
        "print(\"CASE 2 :\", is_substring(\"compression\", \"sioncompres\"))\n",
        "print(\"CASE 3 :\", is_substring(\"chillhomie\", \"chilleap\"))\n",
        "print(\"CASE 4 :\", is_substring(\"waterbottle\", \"erbottlewt\"))\n",
        "print(\"CASE 5 :\", is_substring(\"waterbottle\", \"erbottlewat\"))"
      ],
      "metadata": {
        "id": "yxvHUQFiYTKn",
        "colab": {
          "base_uri": "https://localhost:8080/"
        },
        "outputId": "f52a8197-d4ce-432a-d64e-ee49bc3a63dd"
      },
      "execution_count": 11,
      "outputs": [
        {
          "output_type": "stream",
          "name": "stdout",
          "text": [
            "CASE 1 : True\n",
            "CASE 1 : True\n",
            "CASE 1 : False\n",
            "CASE 1 : False\n",
            "CASE 1 : True\n"
          ]
        }
      ]
    }
  ]
}
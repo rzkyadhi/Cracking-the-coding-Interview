{
  "nbformat": 4,
  "nbformat_minor": 0,
  "metadata": {
    "colab": {
      "name": "Linked List.ipynb",
      "provenance": [],
      "authorship_tag": "ABX9TyNDy65Fu64g6LAmPnGxQmHI",
      "include_colab_link": true
    },
    "kernelspec": {
      "name": "python3",
      "display_name": "Python 3"
    },
    "language_info": {
      "name": "python"
    }
  },
  "cells": [
    {
      "cell_type": "markdown",
      "metadata": {
        "id": "view-in-github",
        "colab_type": "text"
      },
      "source": [
        "<a href=\"https://colab.research.google.com/github/rzkyadhi/Cracking-the-coding-Interview/blob/main/Linked_List.ipynb\" target=\"_parent\"><img src=\"https://colab.research.google.com/assets/colab-badge.svg\" alt=\"Open In Colab\"/></a>"
      ]
    },
    {
      "cell_type": "markdown",
      "source": [
        "# **2.1 Remove Dups**"
      ],
      "metadata": {
        "id": "Ev1QHAFmy5ed"
      }
    },
    {
      "cell_type": "markdown",
      "source": [
        "Write code to remove duplicates from an unsorted linked list"
      ],
      "metadata": {
        "id": "3SP3NxUxR9U3"
      }
    },
    {
      "cell_type": "markdown",
      "source": [
        "Approach : Using Hash Table to track the value"
      ],
      "metadata": {
        "id": "aUBZGYDkSIoF"
      }
    },
    {
      "cell_type": "code",
      "source": [
        "class Node:\n",
        "  def __init__(self, data = None):\n",
        "    self.data = data\n",
        "    self.next = None\n",
        "\n",
        "class Linked_List:\n",
        "  def __init__(self):\n",
        "    self.head = Node(data = None)\n",
        "\n",
        "  def append(self, data):\n",
        "    new_node = Node(data)\n",
        "    current = self.head\n",
        "    while current.next != None:\n",
        "      current = current.next\n",
        "    current.next = new_node\n",
        "\n",
        "  def length(self):\n",
        "    current = self.head\n",
        "    total = 0\n",
        "    while current.next != None:\n",
        "      current = current.next\n",
        "      total += 1\n",
        "    return total\n",
        "\n",
        "  def display(self):\n",
        "    elements = list()\n",
        "    current = self.head\n",
        "    while current.next != None:\n",
        "      current = current.next\n",
        "      elements.append(current.data)\n",
        "    return elements\n",
        "\n",
        "  def remove_duplicates(self):\n",
        "    current = self.head\n",
        "    previous = None\n",
        "    hash_table = dict()\n",
        "\n",
        "    while current != None:\n",
        "      if current.data in hash_table:\n",
        "        previous.next = current.next\n",
        "        current = None\n",
        "      else:\n",
        "        hash_table[current.data] = 1\n",
        "        previous = current\n",
        "      current = previous.next\n",
        "      #print(hash_table)"
      ],
      "metadata": {
        "id": "dsF6rIiXDa6g"
      },
      "execution_count": null,
      "outputs": []
    },
    {
      "cell_type": "code",
      "source": [
        "my_list = Linked_List()\n",
        "\n",
        "my_list.append(2)\n",
        "my_list.append(4)\n",
        "my_list.append(3)\n",
        "my_list.append(1)\n",
        "my_list.append(3)\n",
        "my_list.append(2)\n",
        "my_list.append(9)\n",
        "my_list.append(0)\n",
        "my_list.append(None)"
      ],
      "metadata": {
        "id": "3G4-JWcRDpMD"
      },
      "execution_count": null,
      "outputs": []
    },
    {
      "cell_type": "code",
      "source": [
        "print(my_list.length())\n",
        "print(my_list.display())\n",
        "\n",
        "my_list.remove_duplicates()\n",
        "print(my_list.length())\n",
        "print(my_list.display())"
      ],
      "metadata": {
        "colab": {
          "base_uri": "https://localhost:8080/"
        },
        "id": "atYJ8YuVHkDj",
        "outputId": "caef2520-2ef9-436c-d0da-7be6305ca04b"
      },
      "execution_count": null,
      "outputs": [
        {
          "output_type": "stream",
          "name": "stdout",
          "text": [
            "9\n",
            "[2, 4, 3, 1, 3, 2, 9, 0, None]\n",
            "6\n",
            "[2, 4, 3, 1, 9, 0]\n"
          ]
        }
      ]
    },
    {
      "cell_type": "markdown",
      "source": [
        "# **2.2 Return Kth to Last**"
      ],
      "metadata": {
        "id": "nKSdP9eTCFMq"
      }
    },
    {
      "cell_type": "markdown",
      "source": [
        "Implement an algorithm to find the kth to last element of a singly linked list"
      ],
      "metadata": {
        "id": "AGhX_hl2Neup"
      }
    },
    {
      "cell_type": "code",
      "source": [
        "class Node:\n",
        "  def __init__(self, data = None):\n",
        "    self.data = data\n",
        "    self.next = None\n",
        "\n",
        "class Linked_List:\n",
        "  def __init__(self):\n",
        "    self.head = Node(data = None)\n",
        "\n",
        "  def append(self, data):\n",
        "    new_node = Node(data)\n",
        "    current = self.head\n",
        "    while current.next != None:\n",
        "      current = current.next\n",
        "    current.next = new_node\n",
        "\n",
        "  def length(self):\n",
        "    count = 0\n",
        "    current = self.head\n",
        "    while current.next != None:\n",
        "      count += 1\n",
        "      current = current.next\n",
        "    return count\n",
        "\n",
        "  def display(self):\n",
        "    elements = list()\n",
        "    current = self.head\n",
        "    while current.next != None:\n",
        "      current = current.next\n",
        "      elements.append(current.data)\n",
        "    return elements\n",
        "\n",
        "  def find_kth(self, k):\n",
        "    current = self.head\n",
        "    index = 0\n",
        "    while current:\n",
        "      if index == self.length() - (k-1):\n",
        "        return current.data\n",
        "      index += 1\n",
        "      current = current.next\n",
        "    return None\n",
        "\n",
        "my_list = Linked_List()\n",
        "\n",
        "for num in range(0, 10, 2):\n",
        "  my_list.append(num)\n",
        "\n",
        "my_list.display()\n",
        "my_list.length()\n"
      ],
      "metadata": {
        "id": "0hadcFqCO8QN",
        "colab": {
          "base_uri": "https://localhost:8080/"
        },
        "outputId": "2ff34a98-3ea2-4006-a2bd-f04459322bfb"
      },
      "execution_count": 65,
      "outputs": [
        {
          "output_type": "execute_result",
          "data": {
            "text/plain": [
              "5"
            ]
          },
          "metadata": {},
          "execution_count": 65
        }
      ]
    },
    {
      "cell_type": "code",
      "source": [
        "k = 2\n",
        "print(f\"the length is: {my_list.length()}\")\n",
        "print(f\"The {k}th to last is: {my_list.find_kth(k)}\")\n",
        "my_list.display()"
      ],
      "metadata": {
        "colab": {
          "base_uri": "https://localhost:8080/"
        },
        "id": "dzVFn9KEDQwo",
        "outputId": "b7b62783-ec30-4216-e381-c3d8e5f70416"
      },
      "execution_count": 66,
      "outputs": [
        {
          "output_type": "stream",
          "name": "stdout",
          "text": [
            "the length is: 5\n",
            "The 2th to last is: 6\n"
          ]
        },
        {
          "output_type": "execute_result",
          "data": {
            "text/plain": [
              "[0, 2, 4, 6, 8]"
            ]
          },
          "metadata": {},
          "execution_count": 66
        }
      ]
    },
    {
      "cell_type": "code",
      "source": [
        ""
      ],
      "metadata": {
        "id": "0jZofEqRDXI2"
      },
      "execution_count": null,
      "outputs": []
    }
  ]
}
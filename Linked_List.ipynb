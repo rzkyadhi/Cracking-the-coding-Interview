{
  "nbformat": 4,
  "nbformat_minor": 0,
  "metadata": {
    "colab": {
      "name": "Linked List.ipynb",
      "provenance": [],
      "authorship_tag": "ABX9TyPVBmCFO9NehjoKwiXB3PzH",
      "include_colab_link": true
    },
    "kernelspec": {
      "name": "python3",
      "display_name": "Python 3"
    },
    "language_info": {
      "name": "python"
    }
  },
  "cells": [
    {
      "cell_type": "markdown",
      "metadata": {
        "id": "view-in-github",
        "colab_type": "text"
      },
      "source": [
        "<a href=\"https://colab.research.google.com/github/rzkyadhi/Cracking-the-coding-Interview/blob/main/Linked_List.ipynb\" target=\"_parent\"><img src=\"https://colab.research.google.com/assets/colab-badge.svg\" alt=\"Open In Colab\"/></a>"
      ]
    },
    {
      "cell_type": "markdown",
      "source": [
        "# **2.1 Remove Dups**"
      ],
      "metadata": {
        "id": "Ev1QHAFmy5ed"
      }
    },
    {
      "cell_type": "markdown",
      "source": [
        "Write code to remove duplicates from an unsorted linked list"
      ],
      "metadata": {
        "id": "3SP3NxUxR9U3"
      }
    },
    {
      "cell_type": "markdown",
      "source": [
        "Approach : Using Hash Table to track the value"
      ],
      "metadata": {
        "id": "aUBZGYDkSIoF"
      }
    },
    {
      "cell_type": "code",
      "source": [
        "class Node:\n",
        "  def __init__(self, data = None):\n",
        "    self.data = data\n",
        "    self.next = None\n",
        "\n",
        "class Linked_List:\n",
        "  def __init__(self):\n",
        "    self.head = Node(data = None)\n",
        "\n",
        "  def append(self, data):\n",
        "    new_node = Node(data)\n",
        "    current = self.head\n",
        "    while current.next != None:\n",
        "      current = current.next\n",
        "    current.next = new_node\n",
        "\n",
        "  def length(self):\n",
        "    current = self.head\n",
        "    total = 0\n",
        "    while current.next != None:\n",
        "      current = current.next\n",
        "      total += 1\n",
        "    return total\n",
        "\n",
        "  def display(self):\n",
        "    elements = list()\n",
        "    current = self.head\n",
        "    while current.next != None:\n",
        "      current = current.next\n",
        "      elements.append(current.data)\n",
        "    return elements\n",
        "\n",
        "  def remove_duplicates(self):\n",
        "    current = self.head\n",
        "    previous = None\n",
        "    hash_table = dict()\n",
        "\n",
        "    while current != None:\n",
        "      if current.data in hash_table:\n",
        "        previous.next = current.next\n",
        "        current = None\n",
        "      else:\n",
        "        hash_table[current.data] = 1\n",
        "        previous = current\n",
        "      current = previous.next\n",
        "      #print(hash_table)"
      ],
      "metadata": {
        "id": "dsF6rIiXDa6g"
      },
      "execution_count": null,
      "outputs": []
    },
    {
      "cell_type": "code",
      "source": [
        "my_list = Linked_List()\n",
        "\n",
        "my_list.append(2)\n",
        "my_list.append(4)\n",
        "my_list.append(3)\n",
        "my_list.append(1)\n",
        "my_list.append(3)\n",
        "my_list.append(2)\n",
        "my_list.append(9)\n",
        "my_list.append(0)\n",
        "my_list.append(None)"
      ],
      "metadata": {
        "id": "3G4-JWcRDpMD"
      },
      "execution_count": null,
      "outputs": []
    },
    {
      "cell_type": "code",
      "source": [
        "print(my_list.length())\n",
        "print(my_list.display())\n",
        "\n",
        "my_list.remove_duplicates()\n",
        "print(my_list.length())\n",
        "print(my_list.display())"
      ],
      "metadata": {
        "colab": {
          "base_uri": "https://localhost:8080/"
        },
        "id": "atYJ8YuVHkDj",
        "outputId": "748d8aee-0c4d-4223-a64a-273514af65b3"
      },
      "execution_count": null,
      "outputs": [
        {
          "output_type": "stream",
          "name": "stdout",
          "text": [
            "9\n",
            "[2, 4, 3, 1, 3, 2, 9, 0, None]\n",
            "None\n",
            "6\n",
            "[2, 4, 3, 1, 9, 0]\n"
          ]
        }
      ]
    },
    {
      "cell_type": "markdown",
      "source": [
        "# **2.2 Return Kth to Last**"
      ],
      "metadata": {
        "id": "nKSdP9eTCFMq"
      }
    },
    {
      "cell_type": "markdown",
      "source": [
        "Implement an algorithm to find the kth to last element of a singly linked list"
      ],
      "metadata": {
        "id": "AGhX_hl2Neup"
      }
    },
    {
      "cell_type": "code",
      "source": [
        "class Node:\n",
        "  def __init__(self, data = None):\n",
        "    self.data = data\n",
        "    self.next = None\n",
        "\n",
        "class Linked_List:\n",
        "  def __init__(self):\n",
        "    self.head = Node(data = None)\n",
        "\n",
        "  def append(self, data):\n",
        "    new_node = Node(data)\n",
        "    current = self.head\n",
        "    while current.next != None:\n",
        "      current = current.next\n",
        "    current.next = new_node\n",
        "\n",
        "  def length(self):\n",
        "    count = 0\n",
        "    current = self.head\n",
        "    while current.next != None:\n",
        "      count += 1\n",
        "      current = current.next\n",
        "    return count\n",
        "\n",
        "  def display(self):\n",
        "    elements = list()\n",
        "    current = self.head\n",
        "    while current.next != None:\n",
        "      current = current.next\n",
        "      elements.append(current.data)\n",
        "    return elements\n",
        "\n",
        "  def find_kth(self, k):\n",
        "    current = self.head\n",
        "    index = 0\n",
        "    while current:\n",
        "      if index == self.length() - (k-1):\n",
        "        return current.data\n",
        "      index += 1\n",
        "      current = current.next\n",
        "    return None\n",
        "\n",
        "my_list = Linked_List()\n",
        "\n",
        "for num in range(0, 10, 2):\n",
        "  my_list.append(num)\n",
        "\n",
        "my_list.display()\n",
        "my_list.length()\n"
      ],
      "metadata": {
        "id": "0hadcFqCO8QN",
        "colab": {
          "base_uri": "https://localhost:8080/"
        },
        "outputId": "2ff34a98-3ea2-4006-a2bd-f04459322bfb"
      },
      "execution_count": null,
      "outputs": [
        {
          "output_type": "execute_result",
          "data": {
            "text/plain": [
              "5"
            ]
          },
          "metadata": {},
          "execution_count": 65
        }
      ]
    },
    {
      "cell_type": "code",
      "source": [
        "k = 2\n",
        "print(f\"the length is: {my_list.length()}\")\n",
        "print(f\"The {k}th to last is: {my_list.find_kth(k)}\")\n",
        "my_list.display()"
      ],
      "metadata": {
        "colab": {
          "base_uri": "https://localhost:8080/"
        },
        "id": "dzVFn9KEDQwo",
        "outputId": "b7b62783-ec30-4216-e381-c3d8e5f70416"
      },
      "execution_count": null,
      "outputs": [
        {
          "output_type": "stream",
          "name": "stdout",
          "text": [
            "the length is: 5\n",
            "The 2th to last is: 6\n"
          ]
        },
        {
          "output_type": "execute_result",
          "data": {
            "text/plain": [
              "[0, 2, 4, 6, 8]"
            ]
          },
          "metadata": {},
          "execution_count": 66
        }
      ]
    },
    {
      "cell_type": "markdown",
      "source": [
        "# **2.3 Delete Middle Node**"
      ],
      "metadata": {
        "id": "WsHEmKrYCaZj"
      }
    },
    {
      "cell_type": "markdown",
      "source": [
        "Implement an algorithm to delete a node in the middle (i.e., any node but the first and last node, not necessarily the exact middle) of a singly linked list, given only access to that node."
      ],
      "metadata": {
        "id": "kpt2O_ox97iq"
      }
    },
    {
      "cell_type": "markdown",
      "source": [
        "Approach : Naive Approach -> Comparing the index and middle value"
      ],
      "metadata": {
        "id": "5rFDNfI--MU5"
      }
    },
    {
      "cell_type": "code",
      "source": [
        "class Node:\n",
        "  def __init__(self, data = None):\n",
        "    self.data = data\n",
        "    self.next = None\n",
        "\n",
        "class Linked_List:\n",
        "  def __init__(self):\n",
        "    self.head = Node(data = None)\n",
        "\n",
        "  def append(self, data):\n",
        "    new_node = Node(data)\n",
        "    current = self.head\n",
        "    while current.next != None:\n",
        "      current = current.next\n",
        "    current.next = new_node\n",
        "\n",
        "  def length(self):\n",
        "    total = 0\n",
        "    current = self.head\n",
        "    while current.next != None:\n",
        "      current = current.next\n",
        "      total += 1\n",
        "    return total\n",
        "\n",
        "  def display(self):\n",
        "    elements = []\n",
        "    current = self.head\n",
        "    while current.next != None:\n",
        "      current = current.next\n",
        "      elements.append(current.data)\n",
        "    return elements\n",
        "\n",
        "  def remove_middle(self):\n",
        "    current = self.head\n",
        "    index = 0\n",
        "    previous = None\n",
        "    middle = self.length() / 2\n",
        "\n",
        "    if middle % int(middle) > 0:\n",
        "      middle += 0.5\n",
        "      int(middle)\n",
        "    elif middle == 0 or middle == 0.0:\n",
        "      int(middle)\n",
        "\n",
        "    while current:\n",
        "      if index == middle:\n",
        "        previous.next = current.next\n",
        "        index += 1\n",
        "      else:\n",
        "        index += 1\n",
        "        previous = current\n",
        "      current = previous.next"
      ],
      "metadata": {
        "id": "0jZofEqRDXI2"
      },
      "execution_count": null,
      "outputs": []
    },
    {
      "cell_type": "code",
      "source": [
        "my_list = Linked_List()\n",
        "my_list.append(1)\n",
        "my_list.append(2)\n",
        "my_list.append(3)\n",
        "my_list.append(\"Rizky\")\n",
        "\n",
        "print(my_list.display())\n",
        "\n",
        "my_list.remove_middle()\n",
        "print(my_list.display())"
      ],
      "metadata": {
        "colab": {
          "base_uri": "https://localhost:8080/"
        },
        "id": "S6l2oJ30EpzR",
        "outputId": "c67a11e7-2d01-4069-8bea-708f803b59fa"
      },
      "execution_count": null,
      "outputs": [
        {
          "output_type": "stream",
          "name": "stdout",
          "text": [
            "[1, 2, 3, 'Rizky']\n",
            "[1, 3, 'Rizky']\n"
          ]
        }
      ]
    },
    {
      "cell_type": "code",
      "source": [
        "my_list = Linked_List()\n",
        "my_list.append(1)\n",
        "my_list.append(2)\n",
        "my_list.append(3)\n",
        "my_list.append(4)\n",
        "my_list.append(\"Rizky\")\n",
        "\n",
        "print(my_list.display())\n",
        "\n",
        "my_list.remove_middle()\n",
        "print(my_list.display())"
      ],
      "metadata": {
        "id": "oXV5ztBmJIDq",
        "colab": {
          "base_uri": "https://localhost:8080/"
        },
        "outputId": "d1f77303-abea-46f3-954c-30882af7b26e"
      },
      "execution_count": null,
      "outputs": [
        {
          "output_type": "stream",
          "name": "stdout",
          "text": [
            "[1, 2, 3, 4, 'Rizky']\n",
            "[1, 2, 4, 'Rizky']\n"
          ]
        }
      ]
    },
    {
      "cell_type": "markdown",
      "source": [
        "# **2.4 Partition**"
      ],
      "metadata": {
        "id": "s0aJ_KaL2V8c"
      }
    },
    {
      "cell_type": "markdown",
      "source": [
        "Write code to partition a linked list around a value x, such that all nodes less than x come before all nodes greater than or equal to x. If x is contained within the list, the values of x only need to be after the elements less than x.The partition element x can appear anywhere in the \"right partition\". It does not need to appear between the left and right partitions"
      ],
      "metadata": {
        "id": "jk378I9qGw1G"
      }
    },
    {
      "cell_type": "code",
      "source": [
        "class Node:\n",
        "  def __init__(self, data = None):\n",
        "    self.data = data\n",
        "    self.next = None\n",
        "\n",
        "class Linked_List:\n",
        "  def __init__(self):\n",
        "    self.head = Node(data = 0)\n",
        "\n",
        "  def append(self, data):\n",
        "    new_node = Node(data)\n",
        "    current = self.head\n",
        "    while current.next != None:\n",
        "      current = current.next\n",
        "    current.next = new_node\n",
        "\n",
        "  def length(self):\n",
        "    total = 0\n",
        "    current = self.head\n",
        "    while current.next != None:\n",
        "      current = current.next\n",
        "      total += 1\n",
        "    return total\n",
        "\n",
        "  def display(self):\n",
        "    elements = []\n",
        "    current = self.head\n",
        "    while current.next != None:\n",
        "      current = current.next\n",
        "      elements.append(current.data)\n",
        "    return elements\n",
        "\n",
        "  def partition(self, partition):\n",
        "    left = Linked_List()\n",
        "    right = Linked_List()\n",
        "    head = self.head\n",
        "    left_tail = left\n",
        "    right_tail = right\n",
        "    \n",
        "    while head:\n",
        "      if head.data < partition:\n",
        "        left_tail.next = head\n",
        "        left_tail = left_tail.next\n",
        "      else:\n",
        "        right_tail.next = head\n",
        "        right_tail = right_tail.next\n",
        "      head = head.next\n",
        "\n",
        "    left_tail.next = right.next\n",
        "    right_tail.next = None\n",
        "\n",
        "    return left_tail"
      ],
      "metadata": {
        "id": "xm7Rnvt3-aTm"
      },
      "execution_count": null,
      "outputs": []
    },
    {
      "cell_type": "code",
      "source": [
        "my_list = Linked_List()\n",
        "\n",
        "my_list.append(1)\n",
        "my_list.append(4)\n",
        "my_list.append(3)\n",
        "my_list.append(2)\n",
        "my_list.append(5)\n",
        "my_list.append(2)\n",
        "\n",
        "my_list.partition(3)\n",
        "print(my_list.display())"
      ],
      "metadata": {
        "colab": {
          "base_uri": "https://localhost:8080/"
        },
        "id": "X8Hups7W3QaT",
        "outputId": "e3a5fd29-5d93-4469-e861-4e47b73d793a"
      },
      "execution_count": null,
      "outputs": [
        {
          "output_type": "stream",
          "name": "stdout",
          "text": [
            "[1, 2, 2, 4, 3, 5]\n"
          ]
        }
      ]
    },
    {
      "cell_type": "code",
      "source": [
        "my_list = Linked_List()\n",
        "\n",
        "my_list.append(3)\n",
        "my_list.append(5)\n",
        "my_list.append(8)\n",
        "my_list.append(5)\n",
        "my_list.append(10)\n",
        "my_list.append(2)\n",
        "my_list.append(1)\n",
        "\n",
        "my_list.partition(5)\n",
        "print(my_list.display())\n",
        "\n",
        "elemetn = my_list.display()"
      ],
      "metadata": {
        "colab": {
          "base_uri": "https://localhost:8080/"
        },
        "id": "R8F5Z3MK5FdP",
        "outputId": "a4a2c50b-7057-44a2-c521-56ef5e7af370"
      },
      "execution_count": null,
      "outputs": [
        {
          "output_type": "stream",
          "name": "stdout",
          "text": [
            "[3, 2, 1, 5, 8, 5, 10]\n"
          ]
        },
        {
          "output_type": "execute_result",
          "data": {
            "text/plain": [
              "5"
            ]
          },
          "metadata": {},
          "execution_count": 46
        }
      ]
    },
    {
      "cell_type": "markdown",
      "source": [
        "# **2.5 Sum Lists**"
      ],
      "metadata": {
        "id": "nt3QVdLz8MC1"
      }
    },
    {
      "cell_type": "markdown",
      "source": [
        "You have two numbers represented by a linked list, where each node contains a single digit. The digits are stored in reverse order, such that the 1's digit is at the head of the list. Write a function that adds the two numbers and returns the sum as a linked list."
      ],
      "metadata": {
        "id": "lT1k_IHOfF3D"
      }
    },
    {
      "cell_type": "code",
      "source": [
        "class Node:\n",
        "  def __init__(self, data = None):\n",
        "    self.data = data\n",
        "    self.next = None\n",
        "\n",
        "class Linked_List:\n",
        "  def __init__(self):\n",
        "    self.head = None\n",
        "\n",
        "  def append(self, data):\n",
        "    new_node = Node(data)\n",
        "    if self.head is None:\n",
        "      self.head = new_node\n",
        "      return\n",
        "\n",
        "    last_node = self.head\n",
        "    while last_node.next:\n",
        "      last_node = last_node.next\n",
        "    last_node.next = new_node\n",
        "\n",
        "  def length(self):\n",
        "    total = 0\n",
        "    current = self.head\n",
        "    while current.next != None:\n",
        "      current = current.next\n",
        "      total += 1\n",
        "    return total\n",
        "\n",
        "  def display(self):\n",
        "    elements = list()\n",
        "    current = self.head\n",
        "    while current.next != None:\n",
        "      current = current.next\n",
        "      elements.append(current.data)\n",
        "    return elements\n",
        "\n",
        "  def print_list(self):\n",
        "    current = self.head\n",
        "    while current:\n",
        "      print(current.data)\n",
        "      current = current.next\n",
        "\n",
        "  def sum_two_lists(self, llist):\n",
        "    Linked_List_One = self.head  \n",
        "    Linked_List_Two = llist.head\n",
        "\n",
        "    sum_llist = Linked_List()\n",
        "\n",
        "    carry = 0\n",
        "    while Linked_List_One or Linked_List_Two:\n",
        "        if not Linked_List_One:\n",
        "            i = 0\n",
        "        else:\n",
        "            i = Linked_List_One.data\n",
        "        if not Linked_List_Two:\n",
        "            j = 0 \n",
        "        else:\n",
        "            j = Linked_List_Two.data\n",
        "        s = i + j + carry\n",
        "        if s >= 10:\n",
        "            carry = 1\n",
        "            remainder = s % 10\n",
        "            sum_llist.append(remainder)\n",
        "        else:\n",
        "            carry = 0\n",
        "            sum_llist.append(s)\n",
        "        if Linked_List_One:\n",
        "            Linked_List_One = Linked_List_One.next\n",
        "        if Linked_List_Two:\n",
        "            Linked_List_Two = Linked_List_Two.next\n",
        "    return sum_llist.print_list()\n"
      ],
      "metadata": {
        "id": "k6wZyVG18KUQ"
      },
      "execution_count": 3,
      "outputs": []
    },
    {
      "cell_type": "code",
      "source": [
        "llist1 = Linked_List()\n",
        "llist1.append(7)\n",
        "llist1.append(1)\n",
        "llist1.append(6)\n",
        "\n",
        "llist2 = Linked_List()\n",
        "llist2.append(5)\n",
        "llist2.append(9)\n",
        "llist2.append(2)\n",
        "\n",
        "print(617 + 295)\n",
        "llist1.sum_two_lists(llist2)"
      ],
      "metadata": {
        "colab": {
          "base_uri": "https://localhost:8080/"
        },
        "id": "JeMeaB7v-HvZ",
        "outputId": "00accbb0-530f-4ab9-b9a6-dd7d385ff1d5"
      },
      "execution_count": 4,
      "outputs": [
        {
          "output_type": "stream",
          "name": "stdout",
          "text": [
            "912\n",
            "2\n",
            "1\n",
            "9\n"
          ]
        }
      ]
    },
    {
      "cell_type": "code",
      "source": [
        ""
      ],
      "metadata": {
        "id": "OpGoQpS4-Kr4"
      },
      "execution_count": null,
      "outputs": []
    }
  ]
}